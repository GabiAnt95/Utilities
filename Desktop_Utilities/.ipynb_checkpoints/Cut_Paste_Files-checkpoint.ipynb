{
 "cells": [
  {
   "cell_type": "code",
   "execution_count": 1,
   "id": "d4b60f80-47ba-4876-8d21-0d0962635c5c",
   "metadata": {},
   "outputs": [],
   "source": [
    "import os\n",
    "import copy\n",
    "\n",
    "# Modules for the graphic interface\n",
    "\n",
    "import tkinter as tk\n",
    "from tkinter import *\n",
    "from tkinter import filedialog\n",
    "\n",
    "\n",
    "def files_explorer(instructions = \"Select a file\", multiple = False):\n",
    "    \n",
    "    root = tk.Tk()\n",
    "    if multiple == False: file = tk.filedialog.askopenfilename(initialdir= os.getcwd(), title= instructions) \n",
    "    else: file = tk.filedialog.askopenfilenames(initialdir= os.getcwd(), title= instructions)\n",
    "    root.destroy()\n",
    "    return file\n",
    "\n",
    "def select_new_directory(instructions = \"Select a Directory: \"):\n",
    "    \n",
    "    root = tk.Tk()\n",
    "    directory = tk.filedialog.askdirectory(initialdir= os.getcwd(), title= instructions)\n",
    "    root.destroy()\n",
    "    return directory\n",
    "\n",
    "def move(old_directory, new_directory):\n",
    "    \n",
    "    os.rename(old_directory, new_directory)\n",
    "    \n",
    "\n",
    "def main():\n",
    "    \n",
    "    files = files_explorer(instructions= \"Select the Files you want to Move: \", multiple = True)\n",
    "    new_directory = select_new_directory(instructions= \"Select the Destiny Directory: \")\n",
    "\n",
    "    for file in files:\n",
    "        old_directory = copy.deepcopy(file)\n",
    "        only_file = file[len(file) - file[::-1].find('/'):]\n",
    "        move(old_directory, new_directory + '/' + only_file)\n",
    "        \n",
    "    \n"
   ]
  },
  {
   "cell_type": "code",
   "execution_count": null,
   "id": "0a30da0f-05e7-4697-b69d-2d75d4405036",
   "metadata": {
    "tags": []
   },
   "outputs": [],
   "source": [
    "window = tk.Tk()\n",
    "window.title('Desktop_Functions')\n",
    "#window.iconbitmap('images/demon.ico')\n",
    "window.geometry(\"500x300\")\n",
    "window.config(bg = 'black', cursor = \"cross\")\n",
    "window.resizable(1,1)\n",
    "\n",
    "# -------------------------- FRAME ----------------------------------\n",
    "\n",
    "frame = tk.Frame(window)\n",
    "frame.config(width = 450, height = 250, bg = 'yellow')\n",
    "frame.pack(expand = 1)\n",
    "frame.config(bd = '20', relief='sunken', cursor='heart')\n",
    "\n",
    "# ------------------------- BUTTON ----------------------------\n",
    "\n",
    "#icon_button = ImageTk.PhotoImage(resize_image('images/eye.png', 50, 50))\n",
    "button = Button(frame, text=\"Change Directory\", command=main)#, image = icon_button)\n",
    "\n",
    "button.config(bg = 'green', fg = 'red', font = (\"Arial\", 12))\n",
    "button.grid(row = 5, column = 3)\n",
    "\n",
    "window.mainloop()"
   ]
  },
  {
   "cell_type": "markdown",
   "id": "938fa80b-df23-4c1d-a86a-00118ffe77b7",
   "metadata": {},
   "source": [
    "# INPUTS PARA ETL"
   ]
  },
  {
   "cell_type": "code",
   "execution_count": 4,
   "id": "d5282c3d-259f-443d-8bf7-7518870de30c",
   "metadata": {},
   "outputs": [],
   "source": [
    "window = tk.Tk()\n",
    "window.title('SELECT EACH INPUT FILE: ')\n",
    "#window.iconbitmap('images/demon.ico')\n",
    "window.geometry(\"700x500\")\n",
    "window.config(bg = 'green')\n",
    "window.resizable(1,1)\n",
    "\n",
    "# -------------------------- FRAME ----------------------------------\n",
    "\n",
    "frame = tk.Frame(window)\n",
    "frame.config(width = 700, height = 500, bg = 'black')\n",
    "frame.pack(expand = 1)\n",
    "frame.config(bd = '20')\n",
    "\n",
    "# ------------------------- BUTTONS ----------------------------\n",
    "\n",
    "#icon_button = ImageTk.PhotoImage(resize_image('images/eye.png', 50, 50))\n",
    "button_projects = Button(frame, text=\"Select PROJECTS\", command=files_explorer)\n",
    "button_pmo_dash = Button(frame, text=\"Select PMO DASHBOARD\", command=files_explorer)\n",
    "button_finnancials = Button(frame, text=\"Select FINNANCIALS\", command=files_explorer)\n",
    "button_tasks = Button(frame, text=\"Select TASKS\", command=lambda: files_explorer(multiple = True))\n",
    "button_highligths = Button(frame, text=\"Select HIGHLIGTHS\", command=files_explorer)\n",
    "button_risks = Button(frame, text=\"Select RISKS\", command=files_explorer)\n",
    "\n",
    "button_output = Button(frame, text = \"Select OUTPUT DIRECTORY\", command = select_new_directory)\n",
    "\n",
    "#button.config(bg = 'green', fg = 'red', font = (\"Arial\", 12))\n",
    "\n",
    "button_projects.grid(row = 1, column = 0)\n",
    "button_pmo_dash.grid(row = 2, column = 0)\n",
    "button_finnancials.grid(row = 3, column = 0)\n",
    "button_tasks.grid(row = 4, column = 0)\n",
    "button_highligths.grid(row = 5, column = 0)\n",
    "button_risks.grid(row = 6, column = 0)\n",
    "\n",
    "button_output.grid(row = 7, column = 1)\n",
    "\n",
    "window.mainloop()"
   ]
  },
  {
   "cell_type": "code",
   "execution_count": null,
   "id": "24684074-d3ed-4893-8243-b08ec5c1d1c8",
   "metadata": {},
   "outputs": [],
   "source": []
  },
  {
   "cell_type": "code",
   "execution_count": 3,
   "id": "4a62fd46-71c8-49cf-989e-c25c5647dd1c",
   "metadata": {},
   "outputs": [
    {
     "data": {
      "text/plain": [
       "<tkinter.Button object .!frame.!button>"
      ]
     },
     "execution_count": 3,
     "metadata": {},
     "output_type": "execute_result"
    }
   ],
   "source": [
    "button_projects"
   ]
  },
  {
   "cell_type": "code",
   "execution_count": null,
   "id": "deecc575-e920-4fd9-b6f9-6af999a91572",
   "metadata": {},
   "outputs": [],
   "source": []
  },
  {
   "cell_type": "code",
   "execution_count": null,
   "id": "1392bb89-61a8-4fcd-bc65-bdf48b06c049",
   "metadata": {},
   "outputs": [],
   "source": []
  },
  {
   "cell_type": "code",
   "execution_count": null,
   "id": "ce5e6e42-633c-4c3d-9246-2f7d03849bec",
   "metadata": {},
   "outputs": [],
   "source": []
  }
 ],
 "metadata": {
  "kernelspec": {
   "display_name": "Python 3",
   "language": "python",
   "name": "python3"
  },
  "language_info": {
   "codemirror_mode": {
    "name": "ipython",
    "version": 3
   },
   "file_extension": ".py",
   "mimetype": "text/x-python",
   "name": "python",
   "nbconvert_exporter": "python",
   "pygments_lexer": "ipython3",
   "version": "3.8.8"
  }
 },
 "nbformat": 4,
 "nbformat_minor": 5
}
